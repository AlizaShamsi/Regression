{
  "nbformat": 4,
  "nbformat_minor": 0,
  "metadata": {
    "anaconda-cloud": {},
    "kernelspec": {
      "display_name": "ml1-arm64",
      "language": "python",
      "name": "ml1-arm64"
    },
    "language_info": {
      "codemirror_mode": {
        "name": "ipython",
        "version": 3
      },
      "file_extension": ".py",
      "mimetype": "text/x-python",
      "name": "python",
      "nbconvert_exporter": "python",
      "pygments_lexer": "ipython3",
      "version": "3.9.1"
    },
    "nteract": {
      "version": "0.7.1"
    },
    "colab": {
      "name": "linreg.ipynb",
      "provenance": [],
      "include_colab_link": true
    }
  },
  "cells": [
    {
      "cell_type": "markdown",
      "metadata": {
        "id": "view-in-github",
        "colab_type": "text"
      },
      "source": [
        "<a href=\"https://colab.research.google.com/github/AlizaShamsi/Regression/blob/main/distribute_linreg.ipynb\" target=\"_parent\"><img src=\"https://colab.research.google.com/assets/colab-badge.svg\" alt=\"Open In Colab\"/></a>"
      ]
    },
    {
      "cell_type": "markdown",
      "metadata": {
        "id": "F-qjsO3-CyTH"
      },
      "source": [
        "# Linear Regression Multiple Ways"
      ]
    },
    {
      "cell_type": "markdown",
      "metadata": {
        "id": "vhI2fAh1C360"
      },
      "source": [
        "!git init; git pull https://github.com/YOUR_USERNAME/Regression.git"
      ]
    },
    {
      "cell_type": "code",
      "metadata": {
        "colab": {
          "base_uri": "https://localhost:8080/"
        },
        "id": "dtSR0fyxBiJV",
        "outputId": "1e6131be-4fa6-4634-917a-fc1382589406"
      },
      "source": [
        "!git init; git pull https://github.com/AlizaShamsi/Regression.git"
      ],
      "execution_count": 1,
      "outputs": [
        {
          "output_type": "stream",
          "text": [
            "Initialized empty Git repository in /content/.git/\n",
            "remote: Enumerating objects: 157, done.\u001b[K\n",
            "remote: Total 157 (delta 0), reused 0 (delta 0), pack-reused 157\u001b[K\n",
            "Receiving objects: 100% (157/157), 19.11 MiB | 32.95 MiB/s, done.\n",
            "From https://github.com/AlizaShamsi/Regression\n",
            " * branch            HEAD       -> FETCH_HEAD\n"
          ],
          "name": "stdout"
        }
      ]
    },
    {
      "cell_type": "markdown",
      "metadata": {
        "id": "RBBWZsb3CyTO"
      },
      "source": [
        "## Making the data\n",
        "\n",
        "We'll first construct a synthetic data set..using a function from the `scikit-learn` library. Synthetic data is nice in the sense that we can constrain how the noise behaves, and thus isolate effects."
      ]
    },
    {
      "cell_type": "code",
      "metadata": {
        "id": "yDBQLvGDCyTP"
      },
      "source": [
        "%matplotlib inline\n",
        "from sklearn.datasets import make_regression\n",
        "import numpy as np\n",
        "import matplotlib.pyplot as plt"
      ],
      "execution_count": 2,
      "outputs": []
    },
    {
      "cell_type": "markdown",
      "metadata": {
        "id": "SoCW2nSyCyTR"
      },
      "source": [
        "This data is generated from the canonical generating process assumed for linear regression: a gaussian distribution centered at the regression line on the y axis."
      ]
    },
    {
      "cell_type": "code",
      "metadata": {
        "id": "MQ4g4sN9CyTR"
      },
      "source": [
        "#code adapted from http://tillbergmann.com/blog/python-gradient-descent.html\n",
        "x, y, coef = make_regression(n_samples = 100, \n",
        "                       n_features=1, \n",
        "                       noise=20,\n",
        "                       random_state=2017,\n",
        "                       bias=0.0,\n",
        "                       coef=True)"
      ],
      "execution_count": 8,
      "outputs": []
    },
    {
      "cell_type": "markdown",
      "metadata": {
        "id": "Q98EPmtRCyTS"
      },
      "source": [
        "Notice that the X is in the canonical array-of-arrays format.\n",
        "**Try and print its shape**"
      ]
    },
    {
      "cell_type": "code",
      "metadata": {
        "colab": {
          "base_uri": "https://localhost:8080/"
        },
        "id": "iNpyFGTeCyTS",
        "outputId": "35cf73f8-a024-45b2-9136-8348ca5e46fc"
      },
      "source": [
        "# your code here\n",
        "x.shape"
      ],
      "execution_count": 9,
      "outputs": [
        {
          "output_type": "execute_result",
          "data": {
            "text/plain": [
              "(100, 1)"
            ]
          },
          "metadata": {
            "tags": []
          },
          "execution_count": 9
        }
      ]
    },
    {
      "cell_type": "markdown",
      "metadata": {
        "id": "ij_miKEiCyTU"
      },
      "source": [
        "We are fitting a model with an intercept. Lets see what it is."
      ]
    },
    {
      "cell_type": "code",
      "metadata": {
        "colab": {
          "base_uri": "https://localhost:8080/"
        },
        "id": "5STse-DGCyTU",
        "outputId": "2b16b067-8fa4-429c-9221-7bc469adb7bd"
      },
      "source": [
        "y.shape"
      ],
      "execution_count": 14,
      "outputs": [
        {
          "output_type": "execute_result",
          "data": {
            "text/plain": [
              "(100,)"
            ]
          },
          "metadata": {
            "tags": []
          },
          "execution_count": 14
        }
      ]
    },
    {
      "cell_type": "code",
      "metadata": {
        "colab": {
          "base_uri": "https://localhost:8080/"
        },
        "id": "XEfDJQnqCcgk",
        "outputId": "d63b443d-edf0-42a8-dcd5-13cfd8e59de1"
      },
      "source": [
        "coef"
      ],
      "execution_count": 15,
      "outputs": [
        {
          "output_type": "execute_result",
          "data": {
            "text/plain": [
              "array(80.88336208)"
            ]
          },
          "metadata": {
            "tags": []
          },
          "execution_count": 15
        }
      ]
    },
    {
      "cell_type": "markdown",
      "metadata": {
        "id": "nRSyktEDCyTV"
      },
      "source": [
        "We can plot the data."
      ]
    },
    {
      "cell_type": "code",
      "metadata": {
        "colab": {
          "base_uri": "https://localhost:8080/",
          "height": 192
        },
        "id": "f34COrzrCyTV",
        "outputId": "3265232b-b361-4407-f874-8383f08aa5d6"
      },
      "source": [
        "plt.plot(x,y, 'o');"
      ],
      "execution_count": 19,
      "outputs": [
        {
          "output_type": "display_data",
          "data": {
            "image/png": "[encoded data removed]",
            "text/plain": [
              "<Figure size 432x288 with 1 Axes>"
            ]
          },
          "metadata": {
            "tags": [],
            "needs_background": "light"
          }
        }
      ]
    },
    {
      "cell_type": "markdown",
      "metadata": {
        "id": "BBwzhUNYCyTW"
      },
      "source": [
        "For the purposes of drawing the regression line, lets create a uniform grid of points, and then reshape it into the canonical format"
      ]
    },
    {
      "cell_type": "code",
      "metadata": {
        "id": "jmedjoqJCyTX"
      },
      "source": [
        "xgrid = np.linspace(-2.5,2.5,1000)\n",
        "Xgrid = xgrid.reshape(-1,1)\n",
        "#xgrid.shape,Xgrid.shape"
      ],
      "execution_count": 41,
      "outputs": []
    },
    {
      "cell_type": "markdown",
      "metadata": {
        "id": "-Qx4TklhCyTY"
      },
      "source": [
        "## Fit using sklearn"
      ]
    },
    {
      "cell_type": "code",
      "metadata": {
        "id": "ecdZyQdpCyTY"
      },
      "source": [
        "from sklearn.linear_model import LinearRegression"
      ],
      "execution_count": 29,
      "outputs": []
    },
    {
      "cell_type": "code",
      "metadata": {
        "colab": {
          "base_uri": "https://localhost:8080/"
        },
        "id": "NN8FEHXqCyTY",
        "outputId": "bd33e8d4-3d09-4bd2-c0e7-38b63d8d4935"
      },
      "source": [
        "lr = LinearRegression()\n",
        "lr.fit(x,y) # fit the model with the existing data\n",
        "ypgrid = lr.predict(Xgrid) # now predict it on the grid\n",
        "lr.coef_, lr.intercept_ # get the slope and the intercept"
      ],
      "execution_count": 37,
      "outputs": [
        {
          "output_type": "execute_result",
          "data": {
            "text/plain": [
              "(array([82.90456142]), -3.709228868670302)"
            ]
          },
          "metadata": {
            "tags": []
          },
          "execution_count": 37
        }
      ]
    },
    {
      "cell_type": "markdown",
      "metadata": {
        "id": "ihlAru1ACyTY"
      },
      "source": [
        "Notice that the slope and the intercept are not what we fed into the model, but close. This is because the model fitted depends on the exact way points were generated.."
      ]
    },
    {
      "cell_type": "code",
      "metadata": {
        "colab": {
          "base_uri": "https://localhost:8080/",
          "height": 229
        },
        "id": "xThEkz-FCyTZ",
        "outputId": "920b6cbc-2bff-4387-8645-a74e86dc7a41"
      },
      "source": [
        "plt.plot(Xgrid, ypgrid, c='b')\n",
        "plt.plot(x, y, '*', c='r')"
      ],
      "execution_count": 51,
      "outputs": [
        {
          "output_type": "execute_result",
          "data": {
            "text/plain": [
              "[<matplotlib.lines.Line2D at 0x7fde3e67ee48>]"
            ]
          },
          "metadata": {
            "tags": []
          },
          "execution_count": 51
        },
        {
          "output_type": "display_data",
          "data": {
            "image/png": "[encoded data removed]",
            "text/plain": [
              "<Figure size 432x288 with 1 Axes>"
            ]
          },
          "metadata": {
            "tags": [],
            "needs_background": "light"
          }
        }
      ]
    },
    {
      "cell_type": "code",
      "metadata": {
        "id": "4vs9Qhf2CyTa"
      },
      "source": [
        "from sklearn.metrics import r2_score"
      ],
      "execution_count": 52,
      "outputs": []
    },
    {
      "cell_type": "code",
      "metadata": {
        "colab": {
          "base_uri": "https://localhost:8080/"
        },
        "id": "HGmhfmAjCyTa",
        "outputId": "c61a6bd5-3b69-43d0-d1f1-9c69967b9074"
      },
      "source": [
        "r2_score(y, lr.predict(x)) # actual and estimated"
      ],
      "execution_count": 55,
      "outputs": [
        {
          "output_type": "execute_result",
          "data": {
            "text/plain": [
              "0.9342344891672815"
            ]
          },
          "metadata": {
            "tags": []
          },
          "execution_count": 55
        }
      ]
    },
    {
      "cell_type": "markdown",
      "metadata": {
        "id": "I7g78BarCyTb"
      },
      "source": [
        "## The impact of samples\n",
        "\n",
        "We'll sample 20 points from the data set. We do this by sampling 20 indices, index into X and y, and then fit on the sample"
      ]
    },
    {
      "cell_type": "code",
      "metadata": {
        "colab": {
          "base_uri": "https://localhost:8080/"
        },
        "id": "1ajLCrOWCyTb",
        "outputId": "454f1d61-a910-41a5-c3ef-d82af0dd33fe"
      },
      "source": [
        "sample_indices = np.random.choice(range(100), size=20, replace=False)\n",
        "sample_indices"
      ],
      "execution_count": 62,
      "outputs": [
        {
          "output_type": "execute_result",
          "data": {
            "text/plain": [
              "array([50, 90, 19, 13, 85,  3, 76, 86, 25, 28, 97, 57, 66, 54, 14, 92, 49,\n",
              "       88, 63, 69])"
            ]
          },
          "metadata": {
            "tags": []
          },
          "execution_count": 62
        }
      ]
    },
    {
      "cell_type": "markdown",
      "metadata": {
        "id": "4qjIde5_CyTb"
      },
      "source": [
        "We create a sample by using the sample indices:"
      ]
    },
    {
      "cell_type": "code",
      "metadata": {
        "id": "A3fp5XwTCyTc"
      },
      "source": [
        "xsample = x[sample_indices]\n",
        "ysample = y[sample_indices]"
      ],
      "execution_count": 63,
      "outputs": []
    },
    {
      "cell_type": "code",
      "metadata": {
        "colab": {
          "base_uri": "https://localhost:8080/"
        },
        "id": "ZPg1cuciE1fi",
        "outputId": "0aaaa939-560a-4448-8c65-dfc5da842752"
      },
      "source": [
        "xsample.shape, ysample.shape"
      ],
      "execution_count": 59,
      "outputs": [
        {
          "output_type": "execute_result",
          "data": {
            "text/plain": [
              "((20, 1), (20,))"
            ]
          },
          "metadata": {
            "tags": []
          },
          "execution_count": 59
        }
      ]
    },
    {
      "cell_type": "markdown",
      "metadata": {
        "id": "lE3G5P4iCyTc"
      },
      "source": [
        "**Find the $R^2$ score of a fit to this sample, on this sample**"
      ]
    },
    {
      "cell_type": "code",
      "metadata": {
        "colab": {
          "base_uri": "https://localhost:8080/"
        },
        "id": "BJ8M1Da1CyTc",
        "outputId": "14312051-8032-40b3-f585-0da41be3394d"
      },
      "source": [
        "# your code here\n",
        "r2_score(ysample, lr.predict(xsample))"
      ],
      "execution_count": 64,
      "outputs": [
        {
          "output_type": "execute_result",
          "data": {
            "text/plain": [
              "0.9661091438662242"
            ]
          },
          "metadata": {
            "tags": []
          },
          "execution_count": 64
        }
      ]
    },
    {
      "cell_type": "markdown",
      "metadata": {
        "id": "JKo99KksCyTd"
      },
      "source": [
        "Lets check the sensitivity of our prediction to our sample. We'll do this 1000 times..that is we'll sample a new set of 20 points, "
      ]
    },
    {
      "cell_type": "code",
      "metadata": {
        "colab": {
          "base_uri": "https://localhost:8080/",
          "height": 208
        },
        "id": "SyD960zACyTe",
        "outputId": "0642561e-5d1d-4139-ed93-28c69ae0a5fc"
      },
      "source": [
        "#1000 repetitions\n",
        "scores = []\n",
        "models=[]\n",
        "for i in range(1000):\n",
        "    sample_indices = np.random.choice(range(100), size=20, replace=False)\n",
        "    xsample = x[sample_indices]\n",
        "    ysample = y[sample_indices]\n",
        "    m = LinearRegression().fit(xsample, ysample)\n",
        "    models.append(m)\n",
        "    scores.append(m.score(xsample, ysample))\n",
        "#models\n",
        "#scores\n",
        "plt.hist(scores,  bins=np.linspace(0.7, 1, 30))\n",
        "plt.xlim(0.7,1)"
      ],
      "execution_count": 86,
      "outputs": [
        {
          "output_type": "execute_result",
          "data": {
            "text/plain": [
              "(0.7, 1.0)"
            ]
          },
          "metadata": {
            "tags": []
          },
          "execution_count": 86
        },
        {
          "output_type": "display_data",
          "data": {
            "image/png": "[encoded data removed]",
            "text/plain": [
              "<Figure size 432x288 with 1 Axes>"
            ]
          },
          "metadata": {
            "tags": [],
            "needs_background": "light"
          }
        }
      ]
    },
    {
      "cell_type": "markdown",
      "metadata": {
        "id": "vAqEUbtvCyTe"
      },
      "source": [
        "Let us check the slope and intercepts fitted on the different samples"
      ]
    },
    {
      "cell_type": "code",
      "metadata": {
        "colab": {
          "base_uri": "https://localhost:8080/",
          "height": 209
        },
        "id": "xMn-JQLkCyTe",
        "outputId": "8b23809f-769c-4108-bf54-d892e82de36d"
      },
      "source": [
        "models[1].coef_[0]\n",
        "plt.hist([models[i].coef_[0] for i in range(1000)], bins=15);\n",
        "plt.xlim([60, 100])"
      ],
      "execution_count": 83,
      "outputs": [
        {
          "output_type": "execute_result",
          "data": {
            "text/plain": [
              "(60.0, 100.0)"
            ]
          },
          "metadata": {
            "tags": []
          },
          "execution_count": 83
        },
        {
          "output_type": "display_data",
          "data": {
            "image/png": "[encoded data removed]",
            "text/plain": [
              "<Figure size 432x288 with 1 Axes>"
            ]
          },
          "metadata": {
            "tags": [],
            "needs_background": "light"
          }
        }
      ]
    },
    {
      "cell_type": "code",
      "metadata": {
        "colab": {
          "base_uri": "https://localhost:8080/",
          "height": 210
        },
        "id": "teZnVAyICyTf",
        "outputId": "dab2c747-2a2b-4569-f87a-3250c20d2ad3"
      },
      "source": [
        "plt.hist([models[i].intercept_ for i in range(1000)], bins=10);\n",
        "plt.xlim([-15, 10])"
      ],
      "execution_count": 85,
      "outputs": [
        {
          "output_type": "execute_result",
          "data": {
            "text/plain": [
              "(-15.0, 10.0)"
            ]
          },
          "metadata": {
            "tags": []
          },
          "execution_count": 85
        },
        {
          "output_type": "display_data",
          "data": {
            "image/png": "[encoded data removed]",
            "text/plain": [
              "<Figure size 432x288 with 1 Axes>"
            ]
          },
          "metadata": {
            "tags": [],
            "needs_background": "light"
          }
        }
      ]
    },
    {
      "cell_type": "markdown",
      "metadata": {
        "id": "8D5cIb07CyTf"
      },
      "source": [
        "## The impact of noise\n",
        "\n",
        "**Redo this with a higher amount of noise (about 400)**. For this you will need to create a new dataset. Plot the data. Plot the histogram of the R^2 as well as that of the coefficients."
      ]
    },
    {
      "cell_type": "code",
      "metadata": {
        "id": "YrW_wcIkCyTf"
      },
      "source": [
        "# your code here\n",
        "x,y,coef=make_regression(n_samples=50, n_features=1, noise=400, coef=True)"
      ],
      "execution_count": 106,
      "outputs": []
    },
    {
      "cell_type": "code",
      "metadata": {
        "colab": {
          "base_uri": "https://localhost:8080/"
        },
        "id": "rq-nZKfDCyTg",
        "outputId": "57e58135-5878-4aef-ef91-229f9632f5ef"
      },
      "source": [
        "# your code here\n",
        "sample_index=np.random.choice(range(50), size=30, replace=False)\n",
        "xsample=x[sample_index]\n",
        "ysample=y[sample_index]\n",
        "xsample.shape, ysample.shape"
      ],
      "execution_count": 107,
      "outputs": [
        {
          "output_type": "execute_result",
          "data": {
            "text/plain": [
              "((30, 1), (30,))"
            ]
          },
          "metadata": {
            "tags": []
          },
          "execution_count": 107
        }
      ]
    },
    {
      "cell_type": "code",
      "metadata": {
        "colab": {
          "base_uri": "https://localhost:8080/"
        },
        "id": "UNcQhOJnCyTg",
        "outputId": "b58ca0f3-6078-4f37-df34-f6ba72d2e50d"
      },
      "source": [
        "# your code here\n",
        "lr.fit(xsample, ysample)\n",
        "y_predict=lr.predict(xsample)\n",
        "r2_score(ysample, y_predict)"
      ],
      "execution_count": 112,
      "outputs": [
        {
          "output_type": "execute_result",
          "data": {
            "text/plain": [
              "0.01037829413921898"
            ]
          },
          "metadata": {
            "tags": []
          },
          "execution_count": 112
        }
      ]
    },
    {
      "cell_type": "code",
      "metadata": {
        "colab": {
          "base_uri": "https://localhost:8080/"
        },
        "id": "3fr4EJraCyTg",
        "outputId": "1ff4748b-031c-4f7f-9dcd-c11ca50a3252"
      },
      "source": [
        "# your code here\n",
        "model=list() # stores the models fit for each repetition\n",
        "score=list() # stores the r2 scores for each repetition \n",
        "new_lr=LinearRegression()\n",
        "for i in range(500):\n",
        "  sample_index=np.random.choice(range(50), size=30, replace=False)\n",
        "  xsample=x[sample_index]\n",
        "  ysample=y[sample_index]\n",
        "  model.append(new_lr.fit(xsample,ysample))\n",
        "  score.append(r2_score(ysample, new_lr.predict(xsample)))\n",
        "#model\n",
        "#score"
      ],
      "execution_count": 118,
      "outputs": [
        {
          "output_type": "execute_result",
          "data": {
            "text/plain": [
              "[0.013435226770155406,\n",
              " 0.11557959052541,\n",
              " 0.00395323808843473,\n",
              " 0.02777876341333141,\n",
              " 0.14814734140588426,\n",
              " 0.029991449219526234,\n",
              " 0.006463148946787012,\n",
              " 0.1583932458356817,\n",
              " 0.14118347752464977,\n",
              " 0.05813280934032983,\n",
              " 0.0016193917069167174,\n",
              " 0.09655996978356185,\n",
              " 0.03362252536647814,\n",
              " 0.1027609565345341,\n",
              " 0.003510694328309749,\n",
              " 0.11175242044070399,\n",
              " 0.1461541664152486,\n",
              " 0.021732225845141007,\n",
              " 0.018426457964898724,\n",
              " 0.017365406567800612,\n",
              " 0.07565758282502277,\n",
              " 0.15690862550178397,\n",
              " 0.0008655186395007952,\n",
              " 0.05467271355021497,\n",
              " 0.11753591425505594,\n",
              " 0.03496159439899982,\n",
              " 0.05782802411498589,\n",
              " 0.18329530504625613,\n",
              " 0.15498421503201376,\n",
              " 0.01035663300691525,\n",
              " 0.014716634333954204,\n",
              " 0.04731040153461874,\n",
              " 0.0032742335462321304,\n",
              " 0.2775504163050577,\n",
              " 0.1782463466462495,\n",
              " 0.0354510293241016,\n",
              " 0.05468911009618571,\n",
              " 0.004570466342895041,\n",
              " 0.061351218845418165,\n",
              " 0.0021801406883252827,\n",
              " 0.0796102044628233,\n",
              " 0.0013415009250669074,\n",
              " 0.13620379512165104,\n",
              " 0.036093959663775266,\n",
              " 0.10650604778657768,\n",
              " 0.11752001230933196,\n",
              " 0.08941863580849485,\n",
              " 0.014188555057799035,\n",
              " 0.04905483376132902,\n",
              " 0.04836320382507597,\n",
              " 0.06312506039693622,\n",
              " 0.10455041198591886,\n",
              " 0.0962420521050843,\n",
              " 0.0577224492153432,\n",
              " 0.030344253250584097,\n",
              " 0.0602949709948738,\n",
              " 1.0897289799305376e-05,\n",
              " 0.024633314561793296,\n",
              " 0.1735141346608826,\n",
              " 0.08135805773729865,\n",
              " 0.09986921792694703,\n",
              " 0.07877772719673415,\n",
              " 0.07252910291350356,\n",
              " 0.0010742608768392614,\n",
              " 0.011783205662030949,\n",
              " 0.04862785891800703,\n",
              " 0.00447128507117045,\n",
              " 0.0012898784024794052,\n",
              " 0.12450344130563562,\n",
              " 0.11267419936430534,\n",
              " 0.0625381278883379,\n",
              " 0.06813147987095847,\n",
              " 0.000671478585883345,\n",
              " 0.06327160886683947,\n",
              " 0.015377549529186463,\n",
              " 0.0005017290316132739,\n",
              " 0.03432524297081074,\n",
              " 0.030333777059913802,\n",
              " 0.0569047413761693,\n",
              " 0.006140428160527844,\n",
              " 0.08283071588414082,\n",
              " 0.08066887259811406,\n",
              " 5.3838865300082084e-05,\n",
              " 0.10929966833341065,\n",
              " 0.09358576282096642,\n",
              " 0.01589254424024833,\n",
              " 0.24804189265186438,\n",
              " 0.11281628604241256,\n",
              " 0.05158817554391837,\n",
              " 0.12953171777178418,\n",
              " 0.150085942096418,\n",
              " 0.11894588979055787,\n",
              " 0.0011120204397404576,\n",
              " 0.06006104925607203,\n",
              " 0.01521948058861955,\n",
              " 0.010299725002700155,\n",
              " 0.006112229037027017,\n",
              " 0.029912251255430844,\n",
              " 0.07443067013176408,\n",
              " 0.06542968503491009,\n",
              " 0.22838408090334872,\n",
              " 0.006096365168082429,\n",
              " 0.007886190756451583,\n",
              " 0.011493299366731935,\n",
              " 0.007662948056040619,\n",
              " 0.04620348140101371,\n",
              " 0.030192719793689093,\n",
              " 0.0791741191456179,\n",
              " 0.03997721924885489,\n",
              " 0.0034304005515348734,\n",
              " 0.03592872255837265,\n",
              " 0.04535612907490083,\n",
              " 0.006351957994947588,\n",
              " 0.07781698576577079,\n",
              " 0.1255362195619092,\n",
              " 0.00035179415253261404,\n",
              " 0.06032762188504104,\n",
              " 0.07190350526759359,\n",
              " 0.19171857404562276,\n",
              " 0.05942804039196781,\n",
              " 0.08723887730693514,\n",
              " 0.05476402624675458,\n",
              " 0.11723004220090372,\n",
              " 0.05872423346151745,\n",
              " 0.033048933294201,\n",
              " 0.0008042794019339494,\n",
              " 0.0704575186305072,\n",
              " 0.08079447993958455,\n",
              " 0.01651890336922268,\n",
              " 0.056557958595032654,\n",
              " 0.04867136553015805,\n",
              " 1.5794899103194204e-05,\n",
              " 0.13854778788280342,\n",
              " 0.05231327049581269,\n",
              " 0.02390377554876999,\n",
              " 0.012911126335036771,\n",
              " 0.04285007734994162,\n",
              " 0.053928597464493966,\n",
              " 0.0814997270101242,\n",
              " 0.07499971781072712,\n",
              " 0.0026878492025304013,\n",
              " 0.02347601411774025,\n",
              " 0.06276345426798591,\n",
              " 0.03384364991884625,\n",
              " 0.027794726503921008,\n",
              " 0.09917818955723312,\n",
              " 0.0676426440552893,\n",
              " 0.02387386457766205,\n",
              " 0.04285741143201516,\n",
              " 0.005579610324937256,\n",
              " 0.01948559156503038,\n",
              " 0.08275405622473897,\n",
              " 0.21509504476470243,\n",
              " 0.011856719329820131,\n",
              " 0.061986407925970655,\n",
              " 0.0716813994387725,\n",
              " 0.003686795758530592,\n",
              " 0.14513075245128382,\n",
              " 0.05630264354307424,\n",
              " 0.057284612337917484,\n",
              " 0.04634955874558322,\n",
              " 0.12181715862065035,\n",
              " 0.13049447551902948,\n",
              " 0.1399256777247867,\n",
              " 0.0018182001755131516,\n",
              " 0.06710869246037199,\n",
              " 0.056149866254916136,\n",
              " 0.007432271142950531,\n",
              " 0.10689732763941295,\n",
              " 0.026105604241454805,\n",
              " 0.16131425515490305,\n",
              " 0.09730987045900819,\n",
              " 0.08385971479377263,\n",
              " 0.0036804932112521893,\n",
              " 0.01251775820580281,\n",
              " 0.012605159587600445,\n",
              " 0.10733974717448169,\n",
              " 0.054769061933181096,\n",
              " 0.3083848241072311,\n",
              " 0.05020556686975719,\n",
              " 0.02985861831910308,\n",
              " 0.10401452484956997,\n",
              " 0.14067770109371203,\n",
              " 0.07071942406630416,\n",
              " 0.004144648438964338,\n",
              " 0.16899178089606826,\n",
              " 0.008583771439952925,\n",
              " 0.0640776086168956,\n",
              " 0.20521630294624515,\n",
              " 0.049085623826082836,\n",
              " 0.1684004862514259,\n",
              " 0.050826360356624356,\n",
              " 0.063828791106318,\n",
              " 0.018332774544331798,\n",
              " 0.12136929502417193,\n",
              " 0.15070772936214605,\n",
              " 0.0021883281388276332,\n",
              " 0.14414449602458912,\n",
              " 0.018234786450806006,\n",
              " 0.010554908483367043,\n",
              " 0.0029587789342471194,\n",
              " 0.05156265845436836,\n",
              " 0.04021408278907046,\n",
              " 0.07424658282510499,\n",
              " 0.044171673686351665,\n",
              " 0.1344436680181853,\n",
              " 0.21696903038490445,\n",
              " 0.03507992973002527,\n",
              " 0.06544968184367339,\n",
              " 0.09150759151102994,\n",
              " 0.061600488327867575,\n",
              " 0.0010506197427516684,\n",
              " 0.2139809383231519,\n",
              " 0.025389209132798962,\n",
              " 0.013366686661273164,\n",
              " 0.008131717031145902,\n",
              " 0.05298308820050668,\n",
              " 0.0007569270206625456,\n",
              " 0.0990836303084649,\n",
              " 0.01929686566751998,\n",
              " 0.14062725536270682,\n",
              " 0.0727814553944316,\n",
              " 0.028725270105333656,\n",
              " 0.013956900359033075,\n",
              " 0.07334339785678601,\n",
              " 0.05098002620206277,\n",
              " 0.19314930802747277,\n",
              " 0.12680943589976235,\n",
              " 0.02803357789780525,\n",
              " 0.04113672297970561,\n",
              " 0.14907623425819594,\n",
              " 0.048700594124516994,\n",
              " 0.07147205051373706,\n",
              " 0.1594056009203757,\n",
              " 0.22460528246614186,\n",
              " 0.08843204642509217,\n",
              " 0.012039984154021077,\n",
              " 0.10596183877096332,\n",
              " 0.022093802564756793,\n",
              " 0.04245566481611962,\n",
              " 0.007872682682405263,\n",
              " 0.10062884764539415,\n",
              " 0.10232191881586628,\n",
              " 0.0006987320138256425,\n",
              " 0.03651441578066894,\n",
              " 0.09769399984785221,\n",
              " 0.13520375526150563,\n",
              " 0.1537630770481243,\n",
              " 0.02436658301364547,\n",
              " 0.11238531007938002,\n",
              " 0.1310074184994514,\n",
              " 0.03419544550673659,\n",
              " 0.07322251072656072,\n",
              " 0.08342093293914177,\n",
              " 0.015115428298566047,\n",
              " 0.029841050184744478,\n",
              " 0.06042385271687689,\n",
              " 0.04828011286710687,\n",
              " 0.022177200731363977,\n",
              " 0.13349768794765393,\n",
              " 0.018717067878204485,\n",
              " 0.07404295015381868,\n",
              " 0.004651480982536427,\n",
              " 0.12205910719896629,\n",
              " 0.008704341440733288,\n",
              " 0.12046692709424245,\n",
              " 0.04375233634247755,\n",
              " 0.0063561924193501484,\n",
              " 0.01789559028188159,\n",
              " 0.05121545348989154,\n",
              " 0.10574959761077307,\n",
              " 0.20155336981245497,\n",
              " 0.055012283177480636,\n",
              " 0.06013904742996157,\n",
              " 3.625177925248302e-05,\n",
              " 0.024338627623075593,\n",
              " 0.13563125132411558,\n",
              " 0.12250325940585438,\n",
              " 0.005020881072209216,\n",
              " 0.1811997653992503,\n",
              " 0.14691660397172246,\n",
              " 0.022674877587367748,\n",
              " 0.07424924747624617,\n",
              " 0.011206887433982682,\n",
              " 0.038246657315349375,\n",
              " 0.010218207741098273,\n",
              " 0.0005710892334687134,\n",
              " 0.0035294066372788535,\n",
              " 0.009958157843197757,\n",
              " 0.029498595793337135,\n",
              " 0.01670358705180275,\n",
              " 0.25089673380061905,\n",
              " 0.1417529383601207,\n",
              " 0.01791315204152155,\n",
              " 0.07632883591364725,\n",
              " 0.004756618408193858,\n",
              " 0.002053019309457449,\n",
              " 0.050903584843005834,\n",
              " 0.007251769384695628,\n",
              " 0.03524473491543234,\n",
              " 0.02657957616400708,\n",
              " 0.01636293521830534,\n",
              " 0.17515859585313098,\n",
              " 0.13355259225182203,\n",
              " 6.594966953266113e-05,\n",
              " 0.10028162444077438,\n",
              " 0.00016036847075728833,\n",
              " 0.02516898131953904,\n",
              " 0.010013555558057718,\n",
              " 0.16741926018841236,\n",
              " 0.08216893985272355,\n",
              " 0.0035739467011186576,\n",
              " 0.20160217041394424,\n",
              " 0.08233327493954845,\n",
              " 0.038831458941793295,\n",
              " 0.025581590823651967,\n",
              " 0.10071777643382362,\n",
              " 0.11787811302519247,\n",
              " 0.00084375826170624,\n",
              " 0.055279261799383916,\n",
              " 0.06864904052385723,\n",
              " 0.023068296329437077,\n",
              " 0.07214949850180319,\n",
              " 0.057319109740156304,\n",
              " 0.027136139003578696,\n",
              " 0.16415711287402313,\n",
              " 0.05314471584675018,\n",
              " 0.05016425295519744,\n",
              " 0.03649785253786353,\n",
              " 0.047210880863815086,\n",
              " 0.05329781195492711,\n",
              " 0.026751552631631426,\n",
              " 0.07280849646907217,\n",
              " 0.1444410769666986,\n",
              " 0.04983429017738095,\n",
              " 0.02249661279974091,\n",
              " 0.04939720574098194,\n",
              " 0.047958079583554025,\n",
              " 0.009186172370910017,\n",
              " 0.13035826594797895,\n",
              " 0.020986494358257057,\n",
              " 0.061555101806410106,\n",
              " 0.0157674886018333,\n",
              " 0.08433673160024757,\n",
              " 0.09725832860259276,\n",
              " 0.041315815934146016,\n",
              " 0.03424275196916293,\n",
              " 0.07946900307090765,\n",
              " 0.10231100680545546,\n",
              " 0.10657790289247648,\n",
              " 0.08645211316958867,\n",
              " 0.007880582905015032,\n",
              " 0.19305460635667737,\n",
              " 0.144381542490862,\n",
              " 0.04957449443034512,\n",
              " 0.030217294892177615,\n",
              " 0.0379572879987754,\n",
              " 0.0013239263247341038,\n",
              " 0.10466075121206153,\n",
              " 0.04182767375363594,\n",
              " 0.023277150369978905,\n",
              " 0.17737610097191447,\n",
              " 0.04881654107103972,\n",
              " 0.023309521777184705,\n",
              " 0.08968223603210868,\n",
              " 0.17186181190594352,\n",
              " 0.18056051978644672,\n",
              " 0.022541378813120128,\n",
              " 0.06164821524282871,\n",
              " 0.13900638068353655,\n",
              " 0.02391484998973803,\n",
              " 0.09981575945943155,\n",
              " 0.057801743432058905,\n",
              " 0.05813350505436532,\n",
              " 0.0136416310966746,\n",
              " 0.008202254323881886,\n",
              " 0.027015192323386117,\n",
              " 0.0024845695649327038,\n",
              " 0.026274174069185863,\n",
              " 0.051385847255263406,\n",
              " 0.2030578401796137,\n",
              " 0.1583149080928662,\n",
              " 0.03823396165731563,\n",
              " 0.05814388647050561,\n",
              " 0.005309225871500289,\n",
              " 0.06872390116452687,\n",
              " 0.004683550385385926,\n",
              " 0.015972088809323326,\n",
              " 0.12165582463562286,\n",
              " 0.0837403135807746,\n",
              " 0.16645421577667563,\n",
              " 0.06425656302271665,\n",
              " 0.026911425099870434,\n",
              " 0.05609063432262751,\n",
              " 0.05941604765833142,\n",
              " 0.10778824602925252,\n",
              " 0.03171321339923139,\n",
              " 0.04018163237312933,\n",
              " 0.06497295644051759,\n",
              " 0.07772564989754271,\n",
              " 0.025366516143239703,\n",
              " 0.00024520407519945664,\n",
              " 0.024080279588400977,\n",
              " 0.13453565590439198,\n",
              " 0.07896841671718868,\n",
              " 0.13304040070880718,\n",
              " 0.001100367963006721,\n",
              " 0.0609708173619401,\n",
              " 0.0620333390773643,\n",
              " 0.058205227372768564,\n",
              " 0.02621885358003917,\n",
              " 0.06089618441858646,\n",
              " 0.0012041604562545993,\n",
              " 0.08754138351095009,\n",
              " 0.003218869552043535,\n",
              " 0.04971564047336163,\n",
              " 0.0744264227996847,\n",
              " 0.004245144091760578,\n",
              " 0.06931123806035677,\n",
              " 0.009309360214801554,\n",
              " 0.037464866204295566,\n",
              " 0.04220509802693162,\n",
              " 0.07465740263650134,\n",
              " 0.05046941376545233,\n",
              " 0.1322544764318454,\n",
              " 0.07872534591036706,\n",
              " 0.10660859035260639,\n",
              " 0.025867379458814233,\n",
              " 0.09962197511622828,\n",
              " 0.05398954299194314,\n",
              " 0.010209625284102741,\n",
              " 0.03352589569255937,\n",
              " 0.07346417072545208,\n",
              " 0.043409955699474256,\n",
              " 0.010504212929092316,\n",
              " 0.0025523139099249414,\n",
              " 0.009106813005756664,\n",
              " 0.003620154790033747,\n",
              " 0.04098414522039229,\n",
              " 0.0112728029360456,\n",
              " 0.14265505857451832,\n",
              " 0.0029982268921425748,\n",
              " 0.137989444778014,\n",
              " 0.07830105452245484,\n",
              " 0.2102158834047949,\n",
              " 0.016191479662781005,\n",
              " 0.14890259629183578,\n",
              " 0.0794918430348629,\n",
              " 0.0509097308348907,\n",
              " 0.09399653054505053,\n",
              " 0.01152915521421638,\n",
              " 0.1427988205869245,\n",
              " 0.10227899578393795,\n",
              " 0.08392414994940856,\n",
              " 0.12845537591121658,\n",
              " 0.027846429713505705,\n",
              " 0.02321833698448983,\n",
              " 0.16106098792452783,\n",
              " 0.17801943806340914,\n",
              " 0.08801599680744454,\n",
              " 0.09004757053767343,\n",
              " 0.002464120191323138,\n",
              " 0.00101854356224107,\n",
              " 0.030874748190991896,\n",
              " 0.10837710314421478,\n",
              " 0.020235014421488673,\n",
              " 0.02046668710876587,\n",
              " 0.0017443086540722685,\n",
              " 0.03775286928757249,\n",
              " 0.10632062707559609,\n",
              " 0.10306907438918311,\n",
              " 0.20243956095872273,\n",
              " 0.01901042292577748,\n",
              " 0.10113841532310308,\n",
              " 0.13167504480088366,\n",
              " 0.07411740997910443,\n",
              " 0.06206503846957234,\n",
              " 0.018681988281991635,\n",
              " 0.07523373144864776,\n",
              " 0.03711379236182111,\n",
              " 0.033553074952551554,\n",
              " 0.16376694330744834,\n",
              " 0.038994129437836644,\n",
              " 0.0019041622444941897,\n",
              " 0.27904907866844586,\n",
              " 0.027630887491562173,\n",
              " 0.053751597562893716,\n",
              " 0.1783545153174676,\n",
              " 0.02347564706854044,\n",
              " 0.03044523314785008,\n",
              " 0.02720918950605966,\n",
              " 0.10596921329380171,\n",
              " 0.08486967522311861,\n",
              " 0.14411475926909734,\n",
              " 0.0015819120519986463,\n",
              " 0.11432541442451638,\n",
              " 0.06548662513231451,\n",
              " 0.07089232025304038,\n",
              " 0.15175169836810465,\n",
              " 0.14128464376381422]"
            ]
          },
          "metadata": {
            "tags": []
          },
          "execution_count": 118
        }
      ]
    },
    {
      "cell_type": "code",
      "metadata": {
        "id": "OtHFWf2iLTEF"
      },
      "source": [
        ""
      ],
      "execution_count": null,
      "outputs": []
    },
    {
      "cell_type": "markdown",
      "metadata": {
        "id": "0IkDhVVnCyTg"
      },
      "source": [
        "## Impact of sample size\n",
        "\n",
        "Going back to the original dataset with less noise, now fetch smaller size samples  (10 data points each) and repeat"
      ]
    },
    {
      "cell_type": "code",
      "metadata": {
        "id": "vSHJRIJkCyTh"
      },
      "source": [
        "# your code here\n"
      ],
      "execution_count": null,
      "outputs": []
    },
    {
      "cell_type": "code",
      "metadata": {
        "id": "kO7MH8z3CyTh"
      },
      "source": [
        "# your code here\n"
      ],
      "execution_count": null,
      "outputs": []
    },
    {
      "cell_type": "code",
      "metadata": {
        "id": "Sn0zwqBuCyTh"
      },
      "source": [
        "plt.hist([models[i].intercept_ for i in range(100)], bins=10);\n",
        "plt.xlim([-15, 10])"
      ],
      "execution_count": null,
      "outputs": []
    },
    {
      "cell_type": "markdown",
      "metadata": {
        "id": "BeErYPb9CyTi"
      },
      "source": [
        "## Testing and training\n",
        "\n",
        "A grid like the one we created might contain some of the points we fit this model on. This is called **Data Contamination** and is a big no-no. If we want an independent estimate of the error, we should hold out some points in a test set. Then we want to guarantee that there is no overlap between the initial sample, or **training set**, and the test set."
      ]
    },
    {
      "cell_type": "code",
      "metadata": {
        "id": "vxJH20BmCyTi"
      },
      "source": [
        "from sklearn.model_selection import train_test_split"
      ],
      "execution_count": null,
      "outputs": []
    },
    {
      "cell_type": "code",
      "metadata": {
        "id": "ZBRKTAcGCyTi"
      },
      "source": [
        "Xtrain, Xtest, ytrain, ytest = train_test_split(X, y, test_size=0.2, random_state=2017)"
      ],
      "execution_count": null,
      "outputs": []
    },
    {
      "cell_type": "markdown",
      "metadata": {
        "id": "ASm-rgK_CyTi"
      },
      "source": [
        "Now lets fit the model on the training set and evaluate it both on the training set and the test set. We print the R^2"
      ]
    },
    {
      "cell_type": "code",
      "metadata": {
        "id": "1IqnGc1iCyTi"
      },
      "source": [
        "lr2 = LinearRegression().fit(Xtrain, ytrain)\n",
        "r2_test = r2_score(ytest, lr.predict(Xtest))\n",
        "r2_train = r2_score(ytrain, lr.predict(Xtrain))"
      ],
      "execution_count": null,
      "outputs": []
    },
    {
      "cell_type": "code",
      "metadata": {
        "id": "x_tnvbNfCyTj"
      },
      "source": [
        "\"Train R2 is {}, while test R^2 is {}\".format(r2_train, r2_test)"
      ],
      "execution_count": null,
      "outputs": []
    },
    {
      "cell_type": "markdown",
      "metadata": {
        "id": "_bRVGa0ACyTj"
      },
      "source": [
        "## Using Keras to fit the model\n",
        "\n",
        "We'll use SGD (we could have used plain and simple gradient descent, why?) and Keras's Sequential API"
      ]
    },
    {
      "cell_type": "code",
      "metadata": {
        "id": "CQsuCh9hCyTj"
      },
      "source": [
        "from keras.models import Sequential\n",
        "from keras.layers import Dense\n",
        "lr3 = Sequential()\n",
        "lr3.add(Dense(1, input_shape=(1,)))\n",
        "lr3.compile(optimizer='sgd', loss='mean_squared_error',  metrics=['mse','accuracy'])\n",
        "lr3.summary()"
      ],
      "execution_count": null,
      "outputs": []
    },
    {
      "cell_type": "code",
      "metadata": {
        "id": "2miJgYFLCyTk"
      },
      "source": [
        "history = lr3.fit(Xtrain, ytrain, epochs=100, batch_size=20)"
      ],
      "execution_count": null,
      "outputs": []
    },
    {
      "cell_type": "code",
      "metadata": {
        "id": "tAhz39NZCyTk"
      },
      "source": [
        "plt.plot(history.history['loss'])"
      ],
      "execution_count": null,
      "outputs": []
    },
    {
      "cell_type": "code",
      "metadata": {
        "id": "qId7nfpLCyTm"
      },
      "source": [
        "lr3.get_weights()"
      ],
      "execution_count": null,
      "outputs": []
    }
  ]
}